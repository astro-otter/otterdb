{
 "cells": [
  {
   "cell_type": "markdown",
   "id": "1d0786f0-b8b7-419c-ae14-93446bade146",
   "metadata": {},
   "source": [
    "# Reformat the data from Ridley+2023 on AT2017bcc into the OTTER JSON format\n",
    "\n",
    "### Metadata First"
   ]
  },
  {
   "cell_type": "code",
   "execution_count": 1,
   "id": "18bcd777-b63b-460c-9380-255cd663561f",
   "metadata": {},
   "outputs": [
    {
     "data": {
      "text/plain": [
       "{'name': [{'default_name': 'AT2017bcc',\n",
       "   'alias': {'value': 'AT2017bcc', 'reference': '2024MNRAS.531.1905R'}}],\n",
       " 'coordinate': [{'reference': '2017TNSTR.220....1C',\n",
       "   'ra': 172.970800581,\n",
       "   'dec': 29.9958695719,\n",
       "   'ra_units': 'deg',\n",
       "   'dec_units': 'deg',\n",
       "   'default': True}],\n",
       " 'distance': [{'value': 0.148,\n",
       "   'reference': '2017TNSCR.221....1B',\n",
       "   'distance_type': 'redshift'}],\n",
       " 'classification': [{'object_class': 'ANT',\n",
       "   'confidence': 1,\n",
       "   'default': True,\n",
       "   'reference': '2024MNRAS.531.1905R'}],\n",
       " 'date_reference': [{'value': 2457802.9139931,\n",
       "   'date_format': 'JD',\n",
       "   'date_type': 'discovery',\n",
       "   'reference': '2017TNSTR.220....1C'}],\n",
       " 'reference_alias': [{'name': '2024MNRAS.531.1905R',\n",
       "   'human_readable_name': 'Ridley et al. (2023)'},\n",
       "  {'name': '2017TNSTR.220....1C',\n",
       "   'human_readable_name': 'Chambers et al. (2017)'},\n",
       "  {'name': '2017TNSCR.221....1B',\n",
       "   'human_readable_name': 'Barbarino et al (2017)'}]}"
      ]
     },
     "execution_count": 1,
     "metadata": {},
     "output_type": "execute_result"
    }
   ],
   "source": [
    "ridley23_bibcode = \"2024MNRAS.531.1905R\"\n",
    "\n",
    "meta = dict(\n",
    "    \n",
    "    name = [dict(\n",
    "        default_name = \"AT2017bcc\",\n",
    "        alias = dict(value=\"AT2017bcc\", reference=ridley23_bibcode)\n",
    "    )],\n",
    "\n",
    "    coordinate = [dict(\n",
    "        reference = \"2017TNSTR.220....1C\", # from TNS Discovery Report\n",
    "        ra = 172.970800581,\n",
    "        dec = 29.9958695719,\n",
    "        ra_units = \"deg\",\n",
    "        dec_units = \"deg\",\n",
    "        default = True\n",
    "    )],\n",
    "\n",
    "    distance = [dict(\n",
    "        value = 0.148,\n",
    "        reference = \"2017TNSCR.221....1B\", # from TNS Classification report\n",
    "        distance_type = \"redshift\"\n",
    "    )],\n",
    "\n",
    "    classification = [\n",
    "        dict(object_class = \"ANT\", confidence=1, default=True, reference=ridley23_bibcode)\n",
    "    ],\n",
    "\n",
    "    date_reference = [dict(\n",
    "        value = 2457802.9139931,\n",
    "        date_format = \"JD\",\n",
    "        date_type = \"discovery\",\n",
    "        reference = \"2017TNSTR.220....1C\"\n",
    "    )],\n",
    "\n",
    "    reference_alias = [\n",
    "        dict(name=ridley23_bibcode, human_readable_name=\"Ridley et al. (2023)\"),\n",
    "        dict(name=\"2017TNSTR.220....1C\", human_readable_name=\"Chambers et al. (2017)\"),\n",
    "        dict(name=\"2017TNSCR.221....1B\", human_readable_name='Barbarino et al (2017)')\n",
    "    ]\n",
    ")\n",
    "\n",
    "meta"
   ]
  },
  {
   "cell_type": "code",
   "execution_count": null,
   "id": "4fb1fb7f-877c-4b3d-8b9c-3655f354cfbd",
   "metadata": {},
   "outputs": [],
   "source": []
  }
 ],
 "metadata": {
  "kernelspec": {
   "display_name": "Python 3 (ipykernel)",
   "language": "python",
   "name": "python3"
  },
  "language_info": {
   "codemirror_mode": {
    "name": "ipython",
    "version": 3
   },
   "file_extension": ".py",
   "mimetype": "text/x-python",
   "name": "python",
   "nbconvert_exporter": "python",
   "pygments_lexer": "ipython3",
   "version": "3.11.7"
  }
 },
 "nbformat": 4,
 "nbformat_minor": 5
}
