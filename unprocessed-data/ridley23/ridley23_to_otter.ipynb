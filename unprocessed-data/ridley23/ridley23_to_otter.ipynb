{
 "cells": [
  {
   "cell_type": "markdown",
   "id": "1d0786f0-b8b7-419c-ae14-93446bade146",
   "metadata": {},
   "source": [
    "# Reformat the data from Ridley+2023 on AT2017bcc into the OTTER JSON format\n",
    "\n",
    "### Metadata First"
   ]
  },
  {
   "cell_type": "code",
   "execution_count": 19,
   "id": "129a9136-c1f7-46f6-826b-21b8f680b1d2",
   "metadata": {
    "tags": []
   },
   "outputs": [],
   "source": [
    "import os\n",
    "import json\n",
    "import otter\n",
    "import pandas as pd\n",
    "import numpy as np\n",
    "\n",
    "from astropy import units as u"
   ]
  },
  {
   "cell_type": "code",
   "execution_count": 27,
   "id": "18bcd777-b63b-460c-9380-255cd663561f",
   "metadata": {
    "tags": []
   },
   "outputs": [
    {
     "data": {
      "text/plain": [
       "{'name': {'default_name': 'AT2017bcc',\n",
       "  'alias': [{'value': 'AT2017bcc', 'reference': '2024MNRAS.531.1905R'}]},\n",
       " 'coordinate': [{'reference': '2017TNSTR.220....1C',\n",
       "   'ra': 172.970800581,\n",
       "   'dec': 29.9958695719,\n",
       "   'ra_units': 'deg',\n",
       "   'dec_units': 'deg',\n",
       "   'default': True,\n",
       "   'coordinate_type': 'equitorial'}],\n",
       " 'distance': [{'value': 0.148,\n",
       "   'reference': '2017TNSCR.221....1B',\n",
       "   'distance_type': 'redshift'}],\n",
       " 'classification': [{'object_class': 'ANT',\n",
       "   'confidence': 1,\n",
       "   'default': True,\n",
       "   'reference': '2024MNRAS.531.1905R'}],\n",
       " 'date_reference': [{'value': 2457802.9139931,\n",
       "   'date_format': 'JD',\n",
       "   'date_type': 'discovery',\n",
       "   'reference': '2017TNSTR.220....1C'}],\n",
       " 'reference_alias': [{'name': '2024MNRAS.531.1905R',\n",
       "   'human_readable_name': 'Ridley et al. (2023)'},\n",
       "  {'name': '2017TNSTR.220....1C',\n",
       "   'human_readable_name': 'Chambers et al. (2017)'},\n",
       "  {'name': '2017TNSCR.221....1B',\n",
       "   'human_readable_name': 'Barbarino et al (2017)'}]}"
      ]
     },
     "execution_count": 27,
     "metadata": {},
     "output_type": "execute_result"
    }
   ],
   "source": [
    "ridley23_bibcode = \"2024MNRAS.531.1905R\"\n",
    "\n",
    "meta = dict(\n",
    "    \n",
    "    name = dict(\n",
    "        default_name = \"AT2017bcc\",\n",
    "        alias = [dict(value=\"AT2017bcc\", reference=ridley23_bibcode)]\n",
    "    ),\n",
    "\n",
    "    coordinate = [dict(\n",
    "        reference = \"2017TNSTR.220....1C\", # from TNS Discovery Report\n",
    "        ra = 172.970800581,\n",
    "        dec = 29.9958695719,\n",
    "        ra_units = \"deg\",\n",
    "        dec_units = \"deg\",\n",
    "        default = True,\n",
    "        coordinate_type = \"equitorial\"\n",
    "    )],\n",
    "\n",
    "    distance = [dict(\n",
    "        value = 0.148,\n",
    "        reference = \"2017TNSCR.221....1B\", # from TNS Classification report\n",
    "        distance_type = \"redshift\"\n",
    "    )],\n",
    "\n",
    "    classification = [\n",
    "        dict(object_class = \"ANT\", confidence=1, default=True, reference=ridley23_bibcode)\n",
    "    ],\n",
    "\n",
    "    date_reference = [dict(\n",
    "        value = 2457802.9139931,\n",
    "        date_format = \"JD\",\n",
    "        date_type = \"discovery\",\n",
    "        reference = \"2017TNSTR.220....1C\"\n",
    "    )],\n",
    "\n",
    "    reference_alias = [\n",
    "        dict(name=ridley23_bibcode, human_readable_name=\"Ridley et al. (2023)\"),\n",
    "        dict(name=\"2017TNSTR.220....1C\", human_readable_name=\"Chambers et al. (2017)\"),\n",
    "        dict(name=\"2017TNSCR.221....1B\", human_readable_name='Barbarino et al (2017)')\n",
    "    ]\n",
    ")\n",
    "\n",
    "meta"
   ]
  },
  {
   "cell_type": "markdown",
   "id": "65c613e9-e507-4885-8e7f-34bf3c842c70",
   "metadata": {},
   "source": [
    "# UVOIR dataset"
   ]
  },
  {
   "cell_type": "code",
   "execution_count": 28,
   "id": "b1e0a1da-414b-4882-bf42-57733a338502",
   "metadata": {
    "tags": []
   },
   "outputs": [],
   "source": [
    "uvoir = pd.read_csv(\"at2017bcc_uvoir_phot.csv\")\n",
    "\n",
    "uvoir_phot = dict(\n",
    "    reference = ridley23_bibcode,\n",
    "    raw = uvoir.mag.tolist(),\n",
    "    raw_err = uvoir.magerr.tolist(),\n",
    "    raw_units = \"mag(AB)\",\n",
    "    corr_k = False,\n",
    "    corr_s = False,\n",
    "    corr_av = False,\n",
    "    corr_host = False,\n",
    "    corr_hostav = False,\n",
    "    upperlimit = [False]*len(uvoir),\n",
    "    date = uvoir.mjd.tolist(),\n",
    "    date_format = \"MJD\",\n",
    "    filter_key = uvoir[\"filter\"].tolist(),\n",
    "    obs_type = \"uvoir\"\n",
    ")\n",
    "\n",
    "filts, idxs = np.unique(uvoir[\"filter\"], return_index=True)\n",
    "filter_alias = [\n",
    "    dict(\n",
    "        filter_key = k,\n",
    "        filter_name = k,\n",
    "        wave_eff = w,\n",
    "        wave_units = \"AA\"\n",
    "    ) for k, w in zip(filts, uvoir.wavelength.iloc[idxs])\n",
    "]\n",
    "\n",
    "# test the otter dataset format based on our schema\n",
    "otter.schema.PhotometrySchema(**uvoir_phot);\n",
    "for f in filter_alias:\n",
    "    otter.schema.FilterSchema(**f);"
   ]
  },
  {
   "cell_type": "markdown",
   "id": "47aef302-57b7-4129-9050-ac315672a59e",
   "metadata": {},
   "source": [
    "# Radio Dataset"
   ]
  },
  {
   "cell_type": "code",
   "execution_count": 29,
   "id": "3ab5079f-494b-4689-b413-d3458dd473a5",
   "metadata": {
    "tags": []
   },
   "outputs": [],
   "source": [
    "radio = pd.read_csv(\"at2017bcc_radio_phot.csv\", sep=\"\\t\")\n",
    "\n",
    "radio_phot = dict(\n",
    "    reference = ridley23_bibcode,\n",
    "    raw = radio[\"F(μJy)\"].tolist(),\n",
    "    raw_err = radio[\"dF(μJy)\"].tolist(),\n",
    "    raw_units = \"uJy\",\n",
    "    corr_k = False,\n",
    "    corr_s = False,\n",
    "    corr_av = False,\n",
    "    corr_host = False,\n",
    "    corr_hostav = False,\n",
    "    upperlimit = [False]*len(radio),\n",
    "    date = radio.MJD.tolist(),\n",
    "    date_format = \"MJD\",\n",
    "    filter_key = (radio[\"Frequency(GHz)\"].astype(str)+[\"GHz\"]*len(radio)).tolist(),\n",
    "    obs_type = \"radio\",\n",
    "    telescope = \"VLA\"\n",
    ")\n",
    "\n",
    "filter_alias += [\n",
    "    dict(\n",
    "        filter_key = str(f)+\"GHz\",\n",
    "        filter_name = otter.util.freq_to_band(f*u.GHz),\n",
    "        freq_eff = f,\n",
    "        freq_units = \"GHz\"\n",
    "    ) for f in radio[\"Frequency(GHz)\"].unique()\n",
    "]\n",
    "\n",
    "# test the otter dataset format based on our schema\n",
    "otter.schema.PhotometrySchema(**radio_phot);\n",
    "for f in filter_alias:\n",
    "    otter.schema.FilterSchema(**f);"
   ]
  },
  {
   "cell_type": "markdown",
   "id": "81473986-9ebd-4bed-a94e-29ca317cb07d",
   "metadata": {},
   "source": [
    "# X-ray dataset"
   ]
  },
  {
   "cell_type": "code",
   "execution_count": 30,
   "id": "c3daa006-3d1d-44a1-a110-2ddb08f9801a",
   "metadata": {
    "tags": []
   },
   "outputs": [],
   "source": [
    "xray = pd.read_csv(\"at2017bcc_xray_phot.csv\", sep=\",\")\n",
    "\n",
    "xray_phot = dict(\n",
    "    reference = ridley23_bibcode,\n",
    "    raw = xray[\"Counts[s^−1]\"].tolist(),\n",
    "    raw_err = ((xray.Counts_upper + xray.Counts_lower.abs())/2).tolist(),\n",
    "    raw_units = \"ct/s\",\n",
    "    corr_k = False,\n",
    "    corr_s = False,\n",
    "    corr_av = False,\n",
    "    corr_host = False,\n",
    "    corr_hostav = False,\n",
    "    upperlimit = [False]*len(xray),\n",
    "    date = radio.MJD.tolist(),\n",
    "    date_format = \"MJD\",\n",
    "    filter_key = \"0.3 - 10\",\n",
    "    obs_type = \"xray\",\n",
    "    telescope = \"swift\",\n",
    "    raw_err_detail = dict(\n",
    "        upper = xray.Counts_upper.tolist(),\n",
    "        lower = xray.Counts_lower.tolist()\n",
    "    ),\n",
    "    xray_model = [\n",
    "        dict(\n",
    "            model_name = \"Absorbed Powerlaw\",\n",
    "            param_names = [\"Gamma\", \"N_H\"],\n",
    "            param_values = [1.54, 1.9e20],\n",
    "            param_units = [\"None\", \"cm^-2\"],\n",
    "            param_value_err_upper = [0.14, 0],\n",
    "            param_value_err_lower = [-0.11, 0],\n",
    "            model_reference = ridley23_bibcode,\n",
    "            min_energy = 0.3,\n",
    "            max_energy = 10,\n",
    "            energy_units = \"keV\"\n",
    "        ) for _ in range(len(xray))\n",
    "    ]\n",
    ")\n",
    "\n",
    "filter_alias += [\n",
    "    dict(\n",
    "        filter_key = \"0.3 - 10\",\n",
    "        filter_name = \"0.3 - 10\",\n",
    "        freq_eff = ((10-0.3)*u.keV).to(u.GHz, equivalencies=u.spectral()).value,\n",
    "        freq_units = \"GHz\"\n",
    "    )\n",
    "]\n",
    "\n",
    "\n",
    "# test the otter dataset format based on our schema\n",
    "otter.schema.PhotometrySchema(**xray_phot);\n",
    "for f in filter_alias:\n",
    "    otter.schema.FilterSchema(**f);"
   ]
  },
  {
   "cell_type": "markdown",
   "id": "0b78bddb-f139-4ce9-abe6-06d7ce474b64",
   "metadata": {},
   "source": [
    "# combine everything"
   ]
  },
  {
   "cell_type": "code",
   "execution_count": 31,
   "id": "224ca07f-4742-421a-a3d2-004bb0608c6e",
   "metadata": {
    "tags": []
   },
   "outputs": [
    {
     "data": {
      "text/plain": [
       "Transient(\n",
       "\tName: AT2017bcc,\n",
       "\tKeys: dict_keys(['name', 'coordinate', 'distance', 'classification', 'date_reference', 'reference_alias', 'photometry', 'filter_alias'])\n",
       ")"
      ]
     },
     "execution_count": 31,
     "metadata": {},
     "output_type": "execute_result"
    }
   ],
   "source": [
    "otter_json = meta | {\n",
    "    \"photometry\" : [uvoir_phot, radio_phot, xray_phot],\n",
    "    \"filter_alias\" : filter_alias\n",
    "}\n",
    "\n",
    "otter.schema.OtterSchema(**otter_json)\n",
    "\n",
    "otter.Transient(otter_json)"
   ]
  },
  {
   "cell_type": "code",
   "execution_count": 32,
   "id": "9c4de5c1-1710-478b-9164-feac270bea0b",
   "metadata": {
    "tags": []
   },
   "outputs": [
    {
     "name": "stdout",
     "output_type": "stream",
     "text": [
      "AT2017bcc\n",
      "Adding this as a new object...\n",
      "Don't need to mess with the files at all!\n",
      "Would write to /home/nfranz/astro-otter/dev/ridley23/.otter/AT2017bcc.json\n"
     ]
    }
   ],
   "source": []
  },
  {
   "cell_type": "code",
   "execution_count": null,
   "id": "116daa0b-eb53-4200-8fef-480c3f947d8a",
   "metadata": {},
   "outputs": [],
   "source": []
  }
 ],
 "metadata": {
  "kernelspec": {
   "display_name": "Python 3 (ipykernel)",
   "language": "python",
   "name": "python3"
  },
  "language_info": {
   "codemirror_mode": {
    "name": "ipython",
    "version": 3
   },
   "file_extension": ".py",
   "mimetype": "text/x-python",
   "name": "python",
   "nbconvert_exporter": "python",
   "pygments_lexer": "ipython3",
   "version": "3.11.4"
  }
 },
 "nbformat": 4,
 "nbformat_minor": 5
}
